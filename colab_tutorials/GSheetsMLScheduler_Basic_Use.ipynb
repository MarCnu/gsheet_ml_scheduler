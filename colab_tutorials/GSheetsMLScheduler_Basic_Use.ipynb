{
  "nbformat": 4,
  "nbformat_minor": 0,
  "metadata": {
    "colab": {
      "provenance": [],
      "authorship_tag": "ABX9TyOwwje8bGJKQmc5mrq1rzmo",
      "include_colab_link": true
    },
    "kernelspec": {
      "name": "python3",
      "display_name": "Python 3"
    },
    "language_info": {
      "name": "python"
    }
  },
  "cells": [
    {
      "cell_type": "markdown",
      "metadata": {
        "id": "view-in-github",
        "colab_type": "text"
      },
      "source": [
        "<a href=\"https://colab.research.google.com/github/MarCnu/gsheets_ml_scheduler/blob/main/colab_tutorials/GSheetsMLScheduler_Basic_Use.ipynb\" target=\"_parent\"><img src=\"https://colab.research.google.com/assets/colab-badge.svg\" alt=\"Open In Colab\"/></a>"
      ]
    },
    {
      "cell_type": "markdown",
      "source": [
        "# BASIC USE: Tutorial for the GSheetsMLScheduler library\n",
        "\n",
        "https://github.com/MarCnu/gsheets_ml_scheduler  \n",
        "\n",
        "A simple experiment scheduler that allows multiple instances of Colab to fetch machine learning experiment metaparameters by reading/writing in a sheet from Google Docs Sheets.  \n",
        "\n",
        "## A simple tool with only 3 features:  \n",
        "1. Let your Colab script fetch a run config from a sheet\n",
        "2. Check during a run if the config has been updated (to manually change the learning rate for example)\n",
        "3. Let your Colab script write in the sheet a list of new future runs (for a metaparameter grid search for example)\n",
        "\n",
        "Check the other Colab tutorial:  \n",
        "![Colab Tutorial](https://colab.research.google.com/assets/colab-badge.svg) [ALL FEATURES: Tutorial for the GSheetsMLScheduler library](https://colab.research.google.com/drive/1vxvmURd5_Ka_ui4UyH5DREf74V8vCtyD)"
      ],
      "metadata": {
        "id": "6R5navlTXOiV"
      }
    },
    {
      "cell_type": "code",
      "execution_count": 1,
      "metadata": {
        "colab": {
          "base_uri": "https://localhost:8080/"
        },
        "id": "shMAZ_Bjkr9-",
        "outputId": "3033df7c-8a4f-4188-f5b5-9044bcdf9636"
      },
      "outputs": [
        {
          "output_type": "stream",
          "name": "stdout",
          "text": [
            "Collecting git+https://github.com/MarCnu/gsheets_ml_scheduler.git\n",
            "  Cloning https://github.com/MarCnu/gsheets_ml_scheduler.git to /tmp/pip-req-build-5svyl42n\n",
            "  Running command git clone --filter=blob:none --quiet https://github.com/MarCnu/gsheets_ml_scheduler.git /tmp/pip-req-build-5svyl42n\n",
            "  Resolved https://github.com/MarCnu/gsheets_ml_scheduler.git to commit 968b1b3982f83ccfb3cc1cb1b1a2f4d1c6880c86\n",
            "  Preparing metadata (setup.py) ... \u001b[?25l\u001b[?25hdone\n",
            "Requirement already satisfied: pandas in /usr/local/lib/python3.10/dist-packages (from gsheets-ml-scheduler==1.1) (1.5.3)\n",
            "Requirement already satisfied: gspread in /usr/local/lib/python3.10/dist-packages (from gsheets-ml-scheduler==1.1) (3.4.2)\n",
            "Requirement already satisfied: google-auth in /usr/local/lib/python3.10/dist-packages (from gsheets-ml-scheduler==1.1) (2.17.3)\n",
            "Requirement already satisfied: cachetools<6.0,>=2.0.0 in /usr/local/lib/python3.10/dist-packages (from google-auth->gsheets-ml-scheduler==1.1) (5.3.2)\n",
            "Requirement already satisfied: pyasn1-modules>=0.2.1 in /usr/local/lib/python3.10/dist-packages (from google-auth->gsheets-ml-scheduler==1.1) (0.3.0)\n",
            "Requirement already satisfied: six>=1.9.0 in /usr/local/lib/python3.10/dist-packages (from google-auth->gsheets-ml-scheduler==1.1) (1.16.0)\n",
            "Requirement already satisfied: rsa<5,>=3.1.4 in /usr/local/lib/python3.10/dist-packages (from google-auth->gsheets-ml-scheduler==1.1) (4.9)\n",
            "Requirement already satisfied: requests>=2.2.1 in /usr/local/lib/python3.10/dist-packages (from gspread->gsheets-ml-scheduler==1.1) (2.31.0)\n",
            "Requirement already satisfied: python-dateutil>=2.8.1 in /usr/local/lib/python3.10/dist-packages (from pandas->gsheets-ml-scheduler==1.1) (2.8.2)\n",
            "Requirement already satisfied: pytz>=2020.1 in /usr/local/lib/python3.10/dist-packages (from pandas->gsheets-ml-scheduler==1.1) (2023.3.post1)\n",
            "Requirement already satisfied: numpy>=1.21.0 in /usr/local/lib/python3.10/dist-packages (from pandas->gsheets-ml-scheduler==1.1) (1.23.5)\n",
            "Requirement already satisfied: pyasn1<0.6.0,>=0.4.6 in /usr/local/lib/python3.10/dist-packages (from pyasn1-modules>=0.2.1->google-auth->gsheets-ml-scheduler==1.1) (0.5.0)\n",
            "Requirement already satisfied: charset-normalizer<4,>=2 in /usr/local/lib/python3.10/dist-packages (from requests>=2.2.1->gspread->gsheets-ml-scheduler==1.1) (3.3.2)\n",
            "Requirement already satisfied: idna<4,>=2.5 in /usr/local/lib/python3.10/dist-packages (from requests>=2.2.1->gspread->gsheets-ml-scheduler==1.1) (3.4)\n",
            "Requirement already satisfied: urllib3<3,>=1.21.1 in /usr/local/lib/python3.10/dist-packages (from requests>=2.2.1->gspread->gsheets-ml-scheduler==1.1) (2.0.7)\n",
            "Requirement already satisfied: certifi>=2017.4.17 in /usr/local/lib/python3.10/dist-packages (from requests>=2.2.1->gspread->gsheets-ml-scheduler==1.1) (2023.7.22)\n",
            "Building wheels for collected packages: gsheets-ml-scheduler\n",
            "  Building wheel for gsheets-ml-scheduler (setup.py) ... \u001b[?25l\u001b[?25hdone\n",
            "  Created wheel for gsheets-ml-scheduler: filename=gsheets_ml_scheduler-1.1-py3-none-any.whl size=8758 sha256=901735a6f2a600fa3c49bf9e7883c78a6d676e760ed0099a217d75af68870d2b\n",
            "  Stored in directory: /tmp/pip-ephem-wheel-cache-yl2xdavy/wheels/fc/4c/5e/e68eb5663e3ce3dbfaa57e9c409758ac33d458f08cbf343bf8\n",
            "Successfully built gsheets-ml-scheduler\n",
            "Installing collected packages: gsheets-ml-scheduler\n",
            "Successfully installed gsheets-ml-scheduler-1.1\n"
          ]
        }
      ],
      "source": [
        "!pip install git+https://github.com/MarCnu/gsheets_ml_scheduler.git"
      ]
    },
    {
      "cell_type": "code",
      "source": [
        "from gsheets_ml_scheduler.scheduler import GSheetsMLScheduler\n",
        "\n",
        "import time"
      ],
      "metadata": {
        "id": "_Qocefr3k1U0"
      },
      "execution_count": 2,
      "outputs": []
    },
    {
      "cell_type": "code",
      "source": [
        "################\n",
        "# Here is the basic template\n",
        "# https://docs.google.com/spreadsheets/d/1HSmobuuXsOgUOM5cQ-ecHJS9hVrEj6D3AZG8gokbj6I/edit\n",
        "# *** File > Make a copy\n",
        "# *** Share > Get link (No need to give special read/write rights)\n",
        "# Replace sheets_link with your own link\n",
        "################\n",
        "sheets_link = \"https://docs.google.com/spreadsheets/d/1HSmobuuXsOgUOM5cQ-ecHJS9hVrEj6D3AZG8gokbj6I/edit\""
      ],
      "metadata": {
        "id": "tua1gGDw9KO3"
      },
      "execution_count": 3,
      "outputs": []
    },
    {
      "cell_type": "code",
      "source": [
        "# Each time you restart a Colab session, a popup will ask for read/write rights again\n",
        "scheduler = GSheetsMLScheduler(sheets_link, comma_number_format=True)"
      ],
      "metadata": {
        "colab": {
          "base_uri": "https://localhost:8080/"
        },
        "id": "kjKOs-Qek8Hj",
        "outputId": "950b540d-02f0-42e6-991b-3e6c1d6c85f6"
      },
      "execution_count": 4,
      "outputs": [
        {
          "output_type": "stream",
          "name": "stdout",
          "text": [
            "Scheduler connected to GSheets, its name is worker <Ef6wUp>\n"
          ]
        }
      ]
    },
    {
      "cell_type": "code",
      "source": [
        "while True:\n",
        "  # Finds a run with the status \"ready\" and replaces \"ready\" by \"running\"\n",
        "  run_name, config = scheduler.find_claim_and_start_run()\n",
        "  if run_name is None:\n",
        "    print(\"No more ready runs\")\n",
        "    break\n",
        "  print(f\"Starting run {run_name} with config={config}\")\n",
        "\n",
        "\n",
        "  # Your learning loop here\n",
        "  for epoch in range(config[\"n_epoch\"]):\n",
        "    time.sleep(0.5)\n",
        "\n",
        "\n",
        "  # Replaces status \"running\" by \"done\"\n",
        "  scheduler.run_done()"
      ],
      "metadata": {
        "id": "SrD16OcSucoF",
        "colab": {
          "base_uri": "https://localhost:8080/"
        },
        "outputId": "fbcc5f74-2dd3-46de-bce8-18607f93cba2"
      },
      "execution_count": 5,
      "outputs": [
        {
          "output_type": "stream",
          "name": "stdout",
          "text": [
            "Starting run 1 with config={'n_epoch': 10, 'learning_rate': 0.0005}\n",
            "Starting run 2 with config={'n_epoch': 10, 'learning_rate': 0.0001}\n",
            "Starting run 3 with config={'n_epoch': 10, 'learning_rate': 5e-05}\n",
            "No more ready runs\n"
          ]
        }
      ]
    },
    {
      "cell_type": "code",
      "source": [],
      "metadata": {
        "id": "DgMm0Yj0uxKq"
      },
      "execution_count": 5,
      "outputs": []
    }
  ]
}