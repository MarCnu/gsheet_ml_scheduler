{
  "nbformat": 4,
  "nbformat_minor": 0,
  "metadata": {
    "colab": {
      "provenance": [],
      "authorship_tag": "ABX9TyMonhN6EHEPaA2FKXlRZ+zE",
      "include_colab_link": true
    },
    "kernelspec": {
      "name": "python3",
      "display_name": "Python 3"
    },
    "language_info": {
      "name": "python"
    }
  },
  "cells": [
    {
      "cell_type": "markdown",
      "metadata": {
        "id": "view-in-github",
        "colab_type": "text"
      },
      "source": [
        "<a href=\"https://colab.research.google.com/github/MarCnu/gsheets_ml_scheduler/blob/main/colab_tutorials/GSheetsMLScheduler_All_Features.ipynb\" target=\"_parent\"><img src=\"https://colab.research.google.com/assets/colab-badge.svg\" alt=\"Open In Colab\"/></a>"
      ]
    },
    {
      "cell_type": "markdown",
      "source": [
        "# ALL FEATURES: Tutorial for the GSheetsMLScheduler library\n",
        "\n",
        "https://github.com/MarCnu/gsheets_ml_scheduler  \n",
        "\n",
        "A simple experiment scheduler that allows multiple instances of Colab to fetch machine learning experiment metaparameters by reading/writing in a sheet from Google Docs Sheets.  \n",
        "\n",
        "## A simple tool with only 3 features:  \n",
        "1. Let your Colab script fetch a run config from a sheet\n",
        "2. Check during a run if the config has been updated (to manually change the learning rate for example)\n",
        "3. Let your Colab script write in the sheet a list of new future runs (for a metaparameter grid search for example)\n",
        "\n",
        "Check the other Colab tutorial:  \n",
        "![Colab Tutorial](https://colab.research.google.com/assets/colab-badge.svg) [BASIC USE: Tutorial for the GSheetsMLScheduler library](https://colab.research.google.com/drive/1JsnfMWknoiij5l5V1lQSdofWJxudJwSN#scrollTo=6R5navlTXOiV)"
      ],
      "metadata": {
        "id": "2zD6__GDWk0I"
      }
    },
    {
      "cell_type": "code",
      "execution_count": 1,
      "metadata": {
        "colab": {
          "base_uri": "https://localhost:8080/"
        },
        "id": "shMAZ_Bjkr9-",
        "outputId": "f0aeea01-5584-4d7d-89ca-dbe947931487"
      },
      "outputs": [
        {
          "output_type": "stream",
          "name": "stdout",
          "text": [
            "Collecting git+https://github.com/MarCnu/gsheets_ml_scheduler.git\n",
            "  Cloning https://github.com/MarCnu/gsheets_ml_scheduler.git to /tmp/pip-req-build-0_52pnkb\n",
            "  Running command git clone --filter=blob:none --quiet https://github.com/MarCnu/gsheets_ml_scheduler.git /tmp/pip-req-build-0_52pnkb\n",
            "  Resolved https://github.com/MarCnu/gsheets_ml_scheduler.git to commit 6e9d50991b7cc6b8fba2aaed04985cf0f19f3b56\n",
            "  Preparing metadata (setup.py) ... \u001b[?25l\u001b[?25hdone\n",
            "Requirement already satisfied: pandas in /usr/local/lib/python3.10/dist-packages (from gsheets-ml-scheduler==1.1) (1.5.3)\n",
            "Requirement already satisfied: gspread in /usr/local/lib/python3.10/dist-packages (from gsheets-ml-scheduler==1.1) (3.4.2)\n",
            "Requirement already satisfied: google-auth in /usr/local/lib/python3.10/dist-packages (from gsheets-ml-scheduler==1.1) (2.17.3)\n",
            "Requirement already satisfied: cachetools<6.0,>=2.0.0 in /usr/local/lib/python3.10/dist-packages (from google-auth->gsheets-ml-scheduler==1.1) (5.3.2)\n",
            "Requirement already satisfied: pyasn1-modules>=0.2.1 in /usr/local/lib/python3.10/dist-packages (from google-auth->gsheets-ml-scheduler==1.1) (0.3.0)\n",
            "Requirement already satisfied: six>=1.9.0 in /usr/local/lib/python3.10/dist-packages (from google-auth->gsheets-ml-scheduler==1.1) (1.16.0)\n",
            "Requirement already satisfied: rsa<5,>=3.1.4 in /usr/local/lib/python3.10/dist-packages (from google-auth->gsheets-ml-scheduler==1.1) (4.9)\n",
            "Requirement already satisfied: requests>=2.2.1 in /usr/local/lib/python3.10/dist-packages (from gspread->gsheets-ml-scheduler==1.1) (2.31.0)\n",
            "Requirement already satisfied: python-dateutil>=2.8.1 in /usr/local/lib/python3.10/dist-packages (from pandas->gsheets-ml-scheduler==1.1) (2.8.2)\n",
            "Requirement already satisfied: pytz>=2020.1 in /usr/local/lib/python3.10/dist-packages (from pandas->gsheets-ml-scheduler==1.1) (2023.3.post1)\n",
            "Requirement already satisfied: numpy>=1.21.0 in /usr/local/lib/python3.10/dist-packages (from pandas->gsheets-ml-scheduler==1.1) (1.23.5)\n",
            "Requirement already satisfied: pyasn1<0.6.0,>=0.4.6 in /usr/local/lib/python3.10/dist-packages (from pyasn1-modules>=0.2.1->google-auth->gsheets-ml-scheduler==1.1) (0.5.0)\n",
            "Requirement already satisfied: charset-normalizer<4,>=2 in /usr/local/lib/python3.10/dist-packages (from requests>=2.2.1->gspread->gsheets-ml-scheduler==1.1) (3.3.2)\n",
            "Requirement already satisfied: idna<4,>=2.5 in /usr/local/lib/python3.10/dist-packages (from requests>=2.2.1->gspread->gsheets-ml-scheduler==1.1) (3.4)\n",
            "Requirement already satisfied: urllib3<3,>=1.21.1 in /usr/local/lib/python3.10/dist-packages (from requests>=2.2.1->gspread->gsheets-ml-scheduler==1.1) (2.0.7)\n",
            "Requirement already satisfied: certifi>=2017.4.17 in /usr/local/lib/python3.10/dist-packages (from requests>=2.2.1->gspread->gsheets-ml-scheduler==1.1) (2023.7.22)\n",
            "Building wheels for collected packages: gsheets-ml-scheduler\n",
            "  Building wheel for gsheets-ml-scheduler (setup.py) ... \u001b[?25l\u001b[?25hdone\n",
            "  Created wheel for gsheets-ml-scheduler: filename=gsheets_ml_scheduler-1.1-py3-none-any.whl size=8758 sha256=14c88c1ac68a24294591c269cd87c14920c74ffd5564ace13f77a801ce13906c\n",
            "  Stored in directory: /tmp/pip-ephem-wheel-cache-xswlunyi/wheels/fc/4c/5e/e68eb5663e3ce3dbfaa57e9c409758ac33d458f08cbf343bf8\n",
            "Successfully built gsheets-ml-scheduler\n",
            "Installing collected packages: gsheets-ml-scheduler\n",
            "Successfully installed gsheets-ml-scheduler-1.1\n"
          ]
        }
      ],
      "source": [
        "!pip install git+https://github.com/MarCnu/gsheets_ml_scheduler.git"
      ]
    },
    {
      "cell_type": "code",
      "source": [
        "from gsheets_ml_scheduler.scheduler import GSheetsMLScheduler\n",
        "from gsheets_ml_scheduler.run_writer import GSheetsMLRunWriter\n",
        "\n",
        "import time"
      ],
      "metadata": {
        "id": "_Qocefr3k1U0"
      },
      "execution_count": 2,
      "outputs": []
    },
    {
      "cell_type": "code",
      "source": [
        "################\n",
        "# Here is the basic template\n",
        "# https://docs.google.com/spreadsheets/d/1HSmobuuXsOgUOM5cQ-ecHJS9hVrEj6D3AZG8gokbj6I/edit\n",
        "# *** File > Make a copy\n",
        "# *** Share > Get link (No need to give special read/write rights)\n",
        "# Replace sheets_link with your own link\n",
        "################\n",
        "sheets_link = \"https://docs.google.com/spreadsheets/d/1HSmobuuXsOgUOM5cQ-ecHJS9hVrEj6D3AZG8gokbj6I/edit\""
      ],
      "metadata": {
        "id": "OHNMdEDT7bPU"
      },
      "execution_count": 3,
      "outputs": []
    },
    {
      "cell_type": "markdown",
      "source": [
        "# 1) Write new runs to the Sheet\n",
        "```python\n",
        "# gsheets_file_url (str): The sharing link of your Google Docs Sheets\n",
        "# sheet_index(int, optional): In case you want to use a specific tab of the Google Docs Sheets\n",
        "# comma_number_format (bool, optional): For Google Docs languages that use comma separators for decimal numbers (\"-2,0\" \"5,0E-3\")\n",
        "# service_account_json_path (str, optional): To use Google Service Account to access the Google Docs Sheets API, mandatory if you're not using Colab\n",
        "run_writer = GSheetsMLRunWriter(gsheets_file_url, sheet_index=0, comma_number_format=False, service_account_json_path=None)\n",
        "# configs (list of dicts): A list of configs to be added to the Sheet\n",
        "run_writer.write_runs(configs)\n",
        "```\n",
        "Let's use the method `write_runs(config_list)` from `GSheetsMLRunWriter` to write new runs in \"ready\" status in the Sheet, for metaparameter grid search."
      ],
      "metadata": {
        "id": "Vx5PN78H7BlU"
      }
    },
    {
      "cell_type": "code",
      "source": [
        "# Each time you restart a Colab session, a popup will ask for read/write rights again\n",
        "# Use comma_number_format=True if your Google Docs Sheets language uses comma separators for decimal numbers (\"-2,0\" \"5,0E-3\")\n",
        "run_writer = GSheetsMLRunWriter(sheets_link, comma_number_format=True)"
      ],
      "metadata": {
        "colab": {
          "base_uri": "https://localhost:8080/"
        },
        "id": "cmCdVM9M6fBk",
        "outputId": "dec56e71-b110-427a-fbe6-207b7f3473e2"
      },
      "execution_count": 4,
      "outputs": [
        {
          "output_type": "stream",
          "name": "stdout",
          "text": [
            "Run Writer connected to GSheet\n"
          ]
        }
      ]
    },
    {
      "cell_type": "code",
      "source": [
        "new_config_list = []\n",
        "for n_epoch in [\"\",20,40]: # Use \"\" for the scheduler to use the config_key default value from the Line 2 of the Sheet\n",
        "  for learning_rate in [1e-3, 1e-4, 1e-5]:\n",
        "    for manual_run_stop in [\"\"]:\n",
        "      for manual_worker_stop in [\"\"]:\n",
        "        new_config_list.append({\"n_epoch\": n_epoch, \"learning_rate\": learning_rate, \"manual_run_stop\": manual_run_stop, \"manual_worker_stop\": manual_worker_stop})\n",
        "\n",
        "# You can provide a custom run_name, otherwise, a line number is used as default\n",
        "new_config_list[3][\"run_name\"] = \"Custom Run Name\"\n",
        "\n",
        "# If the columns for the config keys \"manual_run_stop\" and \"manual_worker_stop\" don't exist, GSheetMLRunWriter will create them\n",
        "run_writer.write_runs(new_config_list)\n",
        "\n",
        "# Advanced undocumented use: you can manually use the gspread API library\n",
        "# Here, we write the default values for the newly created columns\n",
        "_ = run_writer.sheet.update_cell(2, 1+run_writer.key_ids[\"manual_run_stop\"], \"FALSE\")\n",
        "_ = run_writer.sheet.update_cell(2, 1+run_writer.key_ids[\"manual_worker_stop\"], \"FALSE\")\n",
        "\n",
        "################\n",
        "# Line 1 is reserved for naming config keys\n",
        "# Line 2 is reversed for default_config values\n",
        "# Lines below that are free to use for your runs\n",
        "#\n",
        "# Columns \"run_name\", \"status\" and \"worker_name\" are MANDATORY\n",
        "# Column order doesn't matter (all is based on Line 1 column names)\n",
        "################"
      ],
      "metadata": {
        "id": "hADlN2LZ7jJU"
      },
      "execution_count": 5,
      "outputs": []
    },
    {
      "cell_type": "markdown",
      "source": [
        "# 2) Check for config updates during a run and modify the \"status\" with a custom text\n",
        "\n",
        "```python\n",
        "# gsheets_file_url (str): The sharing link of your Google Docs Sheets\n",
        "# sheet_index(int, optional): In case you want to use a specific tab of the Google Docs Sheets\n",
        "# hardcoded_default_config (dict, optional): For static metaparameters not provided to the Sheet\n",
        "# comma_number_format (bool, optional): For Google Docs languages that use comma separators for decimal numbers (\"-2,0\" \"5,0E-3\")\n",
        "# service_account_json_path (str, optional): To use Google Service Account to access the Google Docs Sheets API, mandatory if you're not using Colab\n",
        "scheduler = GSheetsMLScheduler(gsheets_file_url, sheet_index=0, hardcoded_default_config=None, comma_number_format=False, service_account_json_path=None)\n",
        "```  \n",
        "Let's use `hardcoded_default_config`. You can also use `comma_number_format` like with the RunWriter"
      ],
      "metadata": {
        "id": "5x_5xi7PBCLp"
      }
    },
    {
      "cell_type": "code",
      "source": [
        "# Use hardcoded_default_config to manage static metaparameters that are not provided to the Sheet\n",
        "# Priority order: Sheet run config > Sheet default_config > hardcoded_default_config\n",
        "hardcoded_default_config = {\n",
        "    \"n_epoch\": 10,\n",
        "    \"learning_rate\": 1e-3,\n",
        "    \"batch_size\": 20,\n",
        "    \"n_layers\": 5\n",
        "}\n",
        "\n",
        "scheduler = GSheetsMLScheduler(sheets_link, hardcoded_default_config=hardcoded_default_config, comma_number_format=True)"
      ],
      "metadata": {
        "colab": {
          "base_uri": "https://localhost:8080/"
        },
        "id": "kjKOs-Qek8Hj",
        "outputId": "56ca70fb-54e8-40e6-8310-b3875298db35"
      },
      "execution_count": 6,
      "outputs": [
        {
          "output_type": "stream",
          "name": "stdout",
          "text": [
            "Scheduler connected to GSheets, its name is worker <Q5JbzF>\n"
          ]
        }
      ]
    },
    {
      "cell_type": "markdown",
      "source": [
        "```python\n",
        "# This can be used my multiple Colab instances (aka workers) in parallel\n",
        "run_name, config = scheduler.find_claim_and_start_run()\n",
        "# This both downloads the Sheet run config and changes the \"status\" at the same time\n",
        "config, changed_keys = scheduler.sync_config_and_status(new_status_str=None)\n",
        "# This sets the \"status\" column of the current run to \"done\n",
        "scheduler.run_done(new_status_str=\"done\")\n",
        "```\n",
        "You can manually change a value in the Sheet during the run and get Colab to check for changes.  \n",
        "This can be for example used to change the `learning_rate` manually when you monitor graphs in TensorBoard or Weight&Biases.  \n",
        "Another use case demonstrated here is to manually stop a run or manually stop a worker."
      ],
      "metadata": {
        "id": "0uG7JKcMHIQv"
      }
    },
    {
      "cell_type": "code",
      "source": [
        "while True:\n",
        "  # Find a run with the status \"ready\"\n",
        "  run_name, config = scheduler.find_claim_and_start_run()\n",
        "  if run_name is None:\n",
        "    print(\"No more ready runs\")\n",
        "    break\n",
        "  print(f\"Starting run {run_name} with config={config}\")\n",
        "\n",
        "  # Your learning loop here\n",
        "  n_epoch_or_interrupt_epoch = config[\"n_epoch\"] # To display in run_done()\n",
        "\n",
        "  for epoch in range(config[\"n_epoch\"]):\n",
        "    # Once in a while, we go check for updates and we also modify the \"status\"\n",
        "    if epoch % 4 == 0:\n",
        "      config, changed_keys = scheduler.sync_config_and_status(f'{epoch} / {config[\"n_epoch\"]}')\n",
        "      for key in changed_keys:\n",
        "        print(\"Key\", key, \"has been modified. New value:\", config[key])\n",
        "      if config[\"manual_run_stop\"] == True:\n",
        "        print(\"Manual run stop triggered, abort this run to find another one\")\n",
        "        n_epoch_or_interrupt_epoch = epoch\n",
        "        break\n",
        "\n",
        "    # The content of your learning loop here\n",
        "    time.sleep(0.5)\n",
        "\n",
        "  # Replaces status \"running\" and sets a blue background\n",
        "  scheduler.run_done(f'{n_epoch_or_interrupt_epoch} / {config[\"n_epoch\"]}')\n",
        "  if config[\"manual_worker_stop\"] == True:\n",
        "        print(\"Manual worker stop triggered, stop searching for next ready runs\")\n",
        "        break"
      ],
      "metadata": {
        "id": "SrD16OcSucoF",
        "colab": {
          "base_uri": "https://localhost:8080/"
        },
        "outputId": "192de569-5e38-4390-8f89-4df21c8520cb"
      },
      "execution_count": 7,
      "outputs": [
        {
          "output_type": "stream",
          "name": "stdout",
          "text": [
            "Starting run 1 with config={'n_epoch': 10, 'learning_rate': 0.0005, 'batch_size': 20, 'n_layers': 5, 'manual_run_stop': False, 'manual_worker_stop': False}\n",
            "Starting run 2 with config={'n_epoch': 10, 'learning_rate': 0.0001, 'batch_size': 20, 'n_layers': 5, 'manual_run_stop': False, 'manual_worker_stop': False}\n",
            "Starting run 3 with config={'n_epoch': 10, 'learning_rate': 5e-05, 'batch_size': 20, 'n_layers': 5, 'manual_run_stop': False, 'manual_worker_stop': False}\n",
            "Starting run 6 with config={'n_epoch': 10, 'learning_rate': 0.001, 'batch_size': 20, 'n_layers': 5, 'manual_run_stop': False, 'manual_worker_stop': False}\n",
            "Starting run 7 with config={'n_epoch': 10, 'learning_rate': 0.0001, 'batch_size': 20, 'n_layers': 5, 'manual_run_stop': False, 'manual_worker_stop': False}\n",
            "Starting run 8 with config={'n_epoch': 10, 'learning_rate': 1e-05, 'batch_size': 20, 'n_layers': 5, 'manual_run_stop': False, 'manual_worker_stop': False}\n",
            "Key manual_run_stop has been modified. New value: True\n",
            "Manual run stop triggered, abort this run to find another one\n",
            "Starting run Custom Run Name with config={'n_epoch': 20, 'learning_rate': 0.001, 'batch_size': 20, 'n_layers': 5, 'manual_run_stop': False, 'manual_worker_stop': False}\n",
            "Key manual_worker_stop has been modified. New value: True\n",
            "Key manual_run_stop has been modified. New value: True\n",
            "Manual run stop triggered, abort this run to find another one\n",
            "Manual worker stop triggered, stop searching for next ready runs\n"
          ]
        }
      ]
    },
    {
      "cell_type": "markdown",
      "source": [
        "# 3) Miscellaneous methods and attributes"
      ],
      "metadata": {
        "id": "onRXRDwFFLdM"
      }
    },
    {
      "cell_type": "code",
      "source": [
        "print(\"Colors\", scheduler.colors) # You can change the colors\n",
        "\n",
        "scheduler.download_data() # Manually downloads the gsheet data\n",
        "\n",
        "print(\"Nb_runs\", scheduler.nb_runs)\n",
        "print(\"Keys\", scheduler.keys)\n",
        "print(\"Key_ids\", scheduler.key_ids)\n",
        "print(\"Config_keys\", scheduler.config_keys)\n",
        "print(\"Config_defaults\", scheduler.config_defaults)\n",
        "print(\"Values\", scheduler.values)\n",
        "\n",
        "# Use get_run_config(run_index) to get value + config_defaults (but not hardcoded_config_defaults)\n",
        "print(\"\\nAll run-status-configs\")\n",
        "for i in range(scheduler.nb_runs):\n",
        "  print([scheduler.values[\"run_name\"][i], scheduler.values[\"status\"][i], scheduler.get_run_config(i)])"
      ],
      "metadata": {
        "colab": {
          "base_uri": "https://localhost:8080/"
        },
        "id": "i6VPI-Za-q1r",
        "outputId": "03b91ee9-2573-48de-e1a9-72af0df09886"
      },
      "execution_count": 8,
      "outputs": [
        {
          "output_type": "stream",
          "name": "stdout",
          "text": [
            "Colors {'running': {'red': 1.0, 'green': 0.93, 'blue': 0.8}, 'done': {'red': 0.8, 'green': 0.9, 'blue': 1.0}, 'default_text': {'red': 0.8, 'green': 0.8, 'blue': 0.8}, 'modified_text': {'red': 0.0, 'green': 0.7, 'blue': 0.12}}\n",
            "Nb_runs 15\n",
            "Keys ['run_name', 'status', 'worker_name', 'n_epoch', 'learning_rate', 'manual_run_stop', 'manual_worker_stop']\n",
            "Key_ids {'run_name': 0, 'status': 1, 'worker_name': 2, 'n_epoch': 3, 'learning_rate': 4, 'manual_run_stop': 5, 'manual_worker_stop': 6}\n",
            "Config_keys ['n_epoch', 'learning_rate', 'manual_run_stop', 'manual_worker_stop']\n",
            "Config_defaults {'n_epoch': 10, 'learning_rate': 0.001, 'manual_run_stop': False, 'manual_worker_stop': False}\n",
            "Values {'run_name': ['0', '1', '2', '3', '4', '5', '6', '7', '8', 'Custom Run Name', '10', '11', '12', '13', '14'], 'status': ['done', '10 / 10', '10 / 10', '10 / 10', '', '', '10 / 10', '10 / 10', '4 / 10', '8 / 20', 'ready', 'ready', 'ready', 'ready', 'ready'], 'worker_name': ['dF53M7', 'Q5JbzF', 'Q5JbzF', 'Q5JbzF', '', '', 'Q5JbzF', 'Q5JbzF', 'Q5JbzF', 'Q5JbzF', '', '', '', '', ''], 'n_epoch': [10, 10, 10, 10, '', '', 10, 10, 10, 20, 20, 20, 40, 40, 40], 'learning_rate': [0.001, 0.0005, 0.0001, 5e-05, '', '', 0.001, 0.0001, 1e-05, 0.001, 0.0001, 1e-05, 0.001, 0.0001, 1e-05], 'manual_run_stop': ['', False, False, False, '', '', False, False, True, True, '', '', '', '', ''], 'manual_worker_stop': ['', False, False, False, '', '', False, False, False, True, '', '', '', '', '']}\n",
            "\n",
            "All run-status-configs\n",
            "['0', 'done', {'n_epoch': 10, 'learning_rate': 0.001, 'manual_run_stop': False, 'manual_worker_stop': False}]\n",
            "['1', '10 / 10', {'n_epoch': 10, 'learning_rate': 0.0005, 'manual_run_stop': False, 'manual_worker_stop': False}]\n",
            "['2', '10 / 10', {'n_epoch': 10, 'learning_rate': 0.0001, 'manual_run_stop': False, 'manual_worker_stop': False}]\n",
            "['3', '10 / 10', {'n_epoch': 10, 'learning_rate': 5e-05, 'manual_run_stop': False, 'manual_worker_stop': False}]\n",
            "['4', '', {'n_epoch': 10, 'learning_rate': 0.001, 'manual_run_stop': False, 'manual_worker_stop': False}]\n",
            "['5', '', {'n_epoch': 10, 'learning_rate': 0.001, 'manual_run_stop': False, 'manual_worker_stop': False}]\n",
            "['6', '10 / 10', {'n_epoch': 10, 'learning_rate': 0.001, 'manual_run_stop': False, 'manual_worker_stop': False}]\n",
            "['7', '10 / 10', {'n_epoch': 10, 'learning_rate': 0.0001, 'manual_run_stop': False, 'manual_worker_stop': False}]\n",
            "['8', '4 / 10', {'n_epoch': 10, 'learning_rate': 1e-05, 'manual_run_stop': True, 'manual_worker_stop': False}]\n",
            "['Custom Run Name', '8 / 20', {'n_epoch': 20, 'learning_rate': 0.001, 'manual_run_stop': True, 'manual_worker_stop': True}]\n",
            "['10', 'ready', {'n_epoch': 20, 'learning_rate': 0.0001, 'manual_run_stop': False, 'manual_worker_stop': False}]\n",
            "['11', 'ready', {'n_epoch': 20, 'learning_rate': 1e-05, 'manual_run_stop': False, 'manual_worker_stop': False}]\n",
            "['12', 'ready', {'n_epoch': 40, 'learning_rate': 0.001, 'manual_run_stop': False, 'manual_worker_stop': False}]\n",
            "['13', 'ready', {'n_epoch': 40, 'learning_rate': 0.0001, 'manual_run_stop': False, 'manual_worker_stop': False}]\n",
            "['14', 'ready', {'n_epoch': 40, 'learning_rate': 1e-05, 'manual_run_stop': False, 'manual_worker_stop': False}]\n"
          ]
        }
      ]
    },
    {
      "cell_type": "code",
      "source": [
        "# You can make manual read/write operations to the Sheet using the gspread library\n",
        "# scheduler.all_sheets contains the gspread file root, if you want to access another tab of the file\n",
        "# scheduler.sheet can be used to call all gspread functions\n",
        "_ = scheduler.sheet.update_cell(2, 1+scheduler.key_ids[\"manual_run_stop\"], \"FALSE\") # Google Sheets uses (1,1) for the top left cell, not (0,0) as in normal Python\n",
        "_ = scheduler.sheet.update_cell(2, 1+scheduler.key_ids[\"manual_worker_stop\"], \"FALSE\")"
      ],
      "metadata": {
        "id": "kRZMu35OK29D"
      },
      "execution_count": 9,
      "outputs": []
    },
    {
      "cell_type": "code",
      "source": [
        "# The run_writer has a much more basic data processing compared to the scheduler\n",
        "# Try to use the scheduler when it's possible\n",
        "# Read the source code to see the details of which attributes/methods are part of GSheetMLRunWriter\n",
        "run_writer.sheet"
      ],
      "metadata": {
        "colab": {
          "base_uri": "https://localhost:8080/"
        },
        "id": "THv9dnL0NNFE",
        "outputId": "40e78ebe-b9d5-4998-ea37-66fc7c85d238"
      },
      "execution_count": 10,
      "outputs": [
        {
          "output_type": "execute_result",
          "data": {
            "text/plain": [
              "<Worksheet 'Basic Template' id:0>"
            ]
          },
          "metadata": {},
          "execution_count": 10
        }
      ]
    },
    {
      "cell_type": "code",
      "source": [],
      "metadata": {
        "id": "5FvZR7IhS7Qo"
      },
      "execution_count": 10,
      "outputs": []
    }
  ]
}