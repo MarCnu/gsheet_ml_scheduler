{
  "nbformat": 4,
  "nbformat_minor": 0,
  "metadata": {
    "colab": {
      "provenance": [],
      "authorship_tag": "ABX9TyMEiPUYEqNBArmWmW0HyBS1",
      "include_colab_link": true
    },
    "kernelspec": {
      "name": "python3",
      "display_name": "Python 3"
    },
    "language_info": {
      "name": "python"
    }
  },
  "cells": [
    {
      "cell_type": "markdown",
      "metadata": {
        "id": "view-in-github",
        "colab_type": "text"
      },
      "source": [
        "<a href=\"https://colab.research.google.com/github/MarCnu/gsheet_ml_scheduler/blob/main/colab_tutorials/gsheetmlscheduler_basic_use.ipynb\" target=\"_parent\"><img src=\"https://colab.research.google.com/assets/colab-badge.svg\" alt=\"Open In Colab\"/></a>"
      ]
    },
    {
      "cell_type": "markdown",
      "source": [
        "# BASIC USE: Tutorial for the GSheetMLScheduler library\n",
        "\n",
        "https://github.com/MarCnu/gsheet_ml_scheduler  \n",
        "\n",
        "A simple experiment scheduler that allows multiple instances of Colab to fetch machine learning experiment metaparameters by reading/writing in a sheet from Google Docs Sheets.\n",
        "\n",
        "### A simple tool with only 3 features:\n",
        "\n",
        "1. Let your Colab script fetch a run config from a Sheet\n",
        "2. Check during a run if the config has been updated (to manually change the learning rate for example)\n",
        "3. Let your Colab script write in the Sheet a list of new future runs (for a metaparameter grid search for example)\n",
        "\n",
        "Check the other Colab tutorial:  \n",
        "![Colab Tutorial](https://colab.research.google.com/assets/colab-badge.svg) [ALL FEATURES: Tutorial for the GSheetMLScheduler library](https://colab.research.google.com/drive/1vxvmURd5_Ka_ui4UyH5DREf74V8vCtyD)"
      ],
      "metadata": {
        "id": "6R5navlTXOiV"
      }
    },
    {
      "cell_type": "code",
      "execution_count": null,
      "metadata": {
        "colab": {
          "base_uri": "https://localhost:8080/"
        },
        "id": "shMAZ_Bjkr9-",
        "outputId": "69c85781-0396-4a5d-8e4e-686d4cde78fe"
      },
      "outputs": [
        {
          "output_type": "stream",
          "name": "stdout",
          "text": [
            "Collecting git+https://github.com/MarCnu/gsheet_ml_scheduler.git\n",
            "  Cloning https://github.com/MarCnu/gsheet_ml_scheduler.git to /tmp/pip-req-build-i8hzhwqk\n",
            "  Running command git clone --filter=blob:none --quiet https://github.com/MarCnu/gsheet_ml_scheduler.git /tmp/pip-req-build-i8hzhwqk\n",
            "  Resolved https://github.com/MarCnu/gsheet_ml_scheduler.git to commit 8244ca47a0221bfa8c440907cd182100ad568772\n",
            "  Preparing metadata (setup.py) ... \u001b[?25l\u001b[?25hdone\n",
            "Requirement already satisfied: pandas in /usr/local/lib/python3.10/dist-packages (from gsheet-ml-scheduler==1.0) (1.5.3)\n",
            "Requirement already satisfied: gspread in /usr/local/lib/python3.10/dist-packages (from gsheet-ml-scheduler==1.0) (3.4.2)\n",
            "Requirement already satisfied: google-auth in /usr/local/lib/python3.10/dist-packages (from gsheet-ml-scheduler==1.0) (2.17.3)\n",
            "Requirement already satisfied: cachetools<6.0,>=2.0.0 in /usr/local/lib/python3.10/dist-packages (from google-auth->gsheet-ml-scheduler==1.0) (5.3.2)\n",
            "Requirement already satisfied: pyasn1-modules>=0.2.1 in /usr/local/lib/python3.10/dist-packages (from google-auth->gsheet-ml-scheduler==1.0) (0.3.0)\n",
            "Requirement already satisfied: six>=1.9.0 in /usr/local/lib/python3.10/dist-packages (from google-auth->gsheet-ml-scheduler==1.0) (1.16.0)\n",
            "Requirement already satisfied: rsa<5,>=3.1.4 in /usr/local/lib/python3.10/dist-packages (from google-auth->gsheet-ml-scheduler==1.0) (4.9)\n",
            "Requirement already satisfied: requests>=2.2.1 in /usr/local/lib/python3.10/dist-packages (from gspread->gsheet-ml-scheduler==1.0) (2.31.0)\n",
            "Requirement already satisfied: python-dateutil>=2.8.1 in /usr/local/lib/python3.10/dist-packages (from pandas->gsheet-ml-scheduler==1.0) (2.8.2)\n",
            "Requirement already satisfied: pytz>=2020.1 in /usr/local/lib/python3.10/dist-packages (from pandas->gsheet-ml-scheduler==1.0) (2023.3.post1)\n",
            "Requirement already satisfied: numpy>=1.21.0 in /usr/local/lib/python3.10/dist-packages (from pandas->gsheet-ml-scheduler==1.0) (1.23.5)\n",
            "Requirement already satisfied: pyasn1<0.6.0,>=0.4.6 in /usr/local/lib/python3.10/dist-packages (from pyasn1-modules>=0.2.1->google-auth->gsheet-ml-scheduler==1.0) (0.5.0)\n",
            "Requirement already satisfied: charset-normalizer<4,>=2 in /usr/local/lib/python3.10/dist-packages (from requests>=2.2.1->gspread->gsheet-ml-scheduler==1.0) (3.3.1)\n",
            "Requirement already satisfied: idna<4,>=2.5 in /usr/local/lib/python3.10/dist-packages (from requests>=2.2.1->gspread->gsheet-ml-scheduler==1.0) (3.4)\n",
            "Requirement already satisfied: urllib3<3,>=1.21.1 in /usr/local/lib/python3.10/dist-packages (from requests>=2.2.1->gspread->gsheet-ml-scheduler==1.0) (2.0.7)\n",
            "Requirement already satisfied: certifi>=2017.4.17 in /usr/local/lib/python3.10/dist-packages (from requests>=2.2.1->gspread->gsheet-ml-scheduler==1.0) (2023.7.22)\n",
            "Building wheels for collected packages: gsheet-ml-scheduler\n",
            "  Building wheel for gsheet-ml-scheduler (setup.py) ... \u001b[?25l\u001b[?25hdone\n",
            "  Created wheel for gsheet-ml-scheduler: filename=gsheet_ml_scheduler-1.0-py3-none-any.whl size=8541 sha256=3e153c7f29271370a89600aa601c24c3bd3b2dc772a11e466b072c6d2c22ec20\n",
            "  Stored in directory: /tmp/pip-ephem-wheel-cache-fagweutq/wheels/01/aa/bb/a619b8dabe6d18cdbf5c7b731c03446cc374f6c486f0e3edba\n",
            "Successfully built gsheet-ml-scheduler\n",
            "Installing collected packages: gsheet-ml-scheduler\n",
            "Successfully installed gsheet-ml-scheduler-1.0\n"
          ]
        }
      ],
      "source": [
        "!pip install git+https://github.com/MarCnu/gsheet_ml_scheduler.git"
      ]
    },
    {
      "cell_type": "code",
      "source": [
        "from gsheet_ml_scheduler.scheduler import GSheetMLScheduler\n",
        "\n",
        "import time"
      ],
      "metadata": {
        "id": "_Qocefr3k1U0"
      },
      "execution_count": null,
      "outputs": []
    },
    {
      "cell_type": "code",
      "source": [
        "################\n",
        "# Here is the basic template\n",
        "# https://docs.google.com/spreadsheets/d/1HSmobuuXsOgUOM5cQ-ecHJS9hVrEj6D3AZG8gokbj6I/edit\n",
        "# *** File > Make a copy\n",
        "# *** Share > Get link (No need to give special read/write rights)\n",
        "# Replace sheet_link with your own link\n",
        "################\n",
        "sheet_link = \"https://docs.google.com/spreadsheets/d/1HSmobuuXsOgUOM5cQ-ecHJS9hVrEj6D3AZG8gokbj6I/edit\""
      ],
      "metadata": {
        "id": "tua1gGDw9KO3"
      },
      "execution_count": null,
      "outputs": []
    },
    {
      "cell_type": "code",
      "source": [
        "# Each time you restart a Colab session, a popup will ask for read/write rights again\n",
        "scheduler = GSheetMLScheduler(sheet_link, comma_number_format=True)"
      ],
      "metadata": {
        "colab": {
          "base_uri": "https://localhost:8080/"
        },
        "id": "kjKOs-Qek8Hj",
        "outputId": "957bb744-0bb0-4991-fd5f-a32d31e3302f"
      },
      "execution_count": null,
      "outputs": [
        {
          "output_type": "stream",
          "name": "stdout",
          "text": [
            "Scheduler connected to GSheet, its name is worker <t3GVuC>\n"
          ]
        }
      ]
    },
    {
      "cell_type": "code",
      "source": [
        "while True:\n",
        "  # Finds a run with the status \"ready\" and replaces \"ready\" by \"running\"\n",
        "  run_name, config = scheduler.find_claim_and_start_run()\n",
        "  if run_name is None:\n",
        "    print(\"No more ready runs\")\n",
        "    break\n",
        "  print(f\"Starting run {run_name} with config={config}\")\n",
        "\n",
        "\n",
        "  # Your learning loop here\n",
        "  for epoch in range(config[\"n_epoch\"]):\n",
        "    time.sleep(0.5)\n",
        "\n",
        "\n",
        "  # Replaces status \"running\" by \"done\"\n",
        "  scheduler.run_done()"
      ],
      "metadata": {
        "id": "SrD16OcSucoF",
        "colab": {
          "base_uri": "https://localhost:8080/"
        },
        "outputId": "d8672921-e5e1-4fec-e80c-40331d8a8274"
      },
      "execution_count": null,
      "outputs": [
        {
          "output_type": "stream",
          "name": "stdout",
          "text": [
            "Starting run 1 with config={'n_epoch': 10, 'learning_rate': 0.0005}\n",
            "Starting run 2 with config={'n_epoch': 10, 'learning_rate': 0.0001}\n",
            "Starting run 3 with config={'n_epoch': 10, 'learning_rate': 5e-05}\n",
            "No more ready runs\n"
          ]
        }
      ]
    },
    {
      "cell_type": "code",
      "source": [],
      "metadata": {
        "id": "DgMm0Yj0uxKq"
      },
      "execution_count": null,
      "outputs": []
    }
  ]
}